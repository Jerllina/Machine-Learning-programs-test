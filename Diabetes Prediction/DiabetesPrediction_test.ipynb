{
 "cells": [
  {
   "cell_type": "code",
   "execution_count": 8,
   "metadata": {},
   "outputs": [
    {
     "name": "stdout",
     "output_type": "stream",
     "text": [
      "Index(['Pregnancies', 'Glucose', 'BloodPressure', 'SkinThickness', 'Insulin',\n",
      "       'BMI', 'DiabetesPedigreeFunction', 'Age', 'Outcome'],\n",
      "      dtype='object')\n"
     ]
    }
   ],
   "source": [
    "import pandas as pd\n",
    "import numpy as np\n",
    "import matplotlib.pyplot as plt\n",
    "\n",
    "#数据集获取\n",
    "diabetes=pd.read_csv('diabetes.csv')\n",
    "print(diabetes.columns)"
   ]
  },
  {
   "cell_type": "code",
   "execution_count": 9,
   "metadata": {
    "scrolled": true
   },
   "outputs": [
    {
     "data": {
      "text/html": [
       "<div>\n",
       "<style>\n",
       "    .dataframe thead tr:only-child th {\n",
       "        text-align: right;\n",
       "    }\n",
       "\n",
       "    .dataframe thead th {\n",
       "        text-align: left;\n",
       "    }\n",
       "\n",
       "    .dataframe tbody tr th {\n",
       "        vertical-align: top;\n",
       "    }\n",
       "</style>\n",
       "<table border=\"1\" class=\"dataframe\">\n",
       "  <thead>\n",
       "    <tr style=\"text-align: right;\">\n",
       "      <th></th>\n",
       "      <th>Pregnancies</th>\n",
       "      <th>Glucose</th>\n",
       "      <th>BloodPressure</th>\n",
       "      <th>SkinThickness</th>\n",
       "      <th>Insulin</th>\n",
       "      <th>BMI</th>\n",
       "      <th>DiabetesPedigreeFunction</th>\n",
       "      <th>Age</th>\n",
       "      <th>Outcome</th>\n",
       "    </tr>\n",
       "  </thead>\n",
       "  <tbody>\n",
       "    <tr>\n",
       "      <th>0</th>\n",
       "      <td>6</td>\n",
       "      <td>148</td>\n",
       "      <td>72</td>\n",
       "      <td>35</td>\n",
       "      <td>0</td>\n",
       "      <td>33.6</td>\n",
       "      <td>0.627</td>\n",
       "      <td>50</td>\n",
       "      <td>1</td>\n",
       "    </tr>\n",
       "    <tr>\n",
       "      <th>1</th>\n",
       "      <td>1</td>\n",
       "      <td>85</td>\n",
       "      <td>66</td>\n",
       "      <td>29</td>\n",
       "      <td>0</td>\n",
       "      <td>26.6</td>\n",
       "      <td>0.351</td>\n",
       "      <td>31</td>\n",
       "      <td>0</td>\n",
       "    </tr>\n",
       "    <tr>\n",
       "      <th>2</th>\n",
       "      <td>8</td>\n",
       "      <td>183</td>\n",
       "      <td>64</td>\n",
       "      <td>0</td>\n",
       "      <td>0</td>\n",
       "      <td>23.3</td>\n",
       "      <td>0.672</td>\n",
       "      <td>32</td>\n",
       "      <td>1</td>\n",
       "    </tr>\n",
       "    <tr>\n",
       "      <th>3</th>\n",
       "      <td>1</td>\n",
       "      <td>89</td>\n",
       "      <td>66</td>\n",
       "      <td>23</td>\n",
       "      <td>94</td>\n",
       "      <td>28.1</td>\n",
       "      <td>0.167</td>\n",
       "      <td>21</td>\n",
       "      <td>0</td>\n",
       "    </tr>\n",
       "    <tr>\n",
       "      <th>4</th>\n",
       "      <td>0</td>\n",
       "      <td>137</td>\n",
       "      <td>40</td>\n",
       "      <td>35</td>\n",
       "      <td>168</td>\n",
       "      <td>43.1</td>\n",
       "      <td>2.288</td>\n",
       "      <td>33</td>\n",
       "      <td>1</td>\n",
       "    </tr>\n",
       "  </tbody>\n",
       "</table>\n",
       "</div>"
      ],
      "text/plain": [
       "   Pregnancies  Glucose  BloodPressure  SkinThickness  Insulin   BMI  \\\n",
       "0            6      148             72             35        0  33.6   \n",
       "1            1       85             66             29        0  26.6   \n",
       "2            8      183             64              0        0  23.3   \n",
       "3            1       89             66             23       94  28.1   \n",
       "4            0      137             40             35      168  43.1   \n",
       "\n",
       "   DiabetesPedigreeFunction  Age  Outcome  \n",
       "0                     0.627   50        1  \n",
       "1                     0.351   31        0  \n",
       "2                     0.672   32        1  \n",
       "3                     0.167   21        0  \n",
       "4                     2.288   33        1  "
      ]
     },
     "execution_count": 9,
     "metadata": {},
     "output_type": "execute_result"
    }
   ],
   "source": [
    "diabetes.head()"
   ]
  },
  {
   "cell_type": "code",
   "execution_count": 11,
   "metadata": {},
   "outputs": [
    {
     "name": "stdout",
     "output_type": "stream",
     "text": [
      "dimension of diabetes data:(768, 9)\n"
     ]
    }
   ],
   "source": [
    "#获取数据集维数\n",
    "print(\"dimension of diabetes data:{}\".format(diabetes.shape))"
   ]
  },
  {
   "cell_type": "code",
   "execution_count": 13,
   "metadata": {},
   "outputs": [
    {
     "name": "stdout",
     "output_type": "stream",
     "text": [
      "Outcome\n",
      "0    500\n",
      "1    268\n",
      "dtype: int64\n"
     ]
    }
   ],
   "source": [
    "#输出数据分类的统计 \n",
    "print(diabetes.groupby('Outcome').size())"
   ]
  },
  {
   "cell_type": "code",
   "execution_count": 42,
   "metadata": {},
   "outputs": [
    {
     "data": {
      "image/png": "[encoded data removed]",
      "text/plain": [
       "<matplotlib.figure.Figure at 0x2e8837e54a8>"
      ]
     },
     "metadata": {},
     "output_type": "display_data"
    }
   ],
   "source": [
    "#Seaborn:以matplotlib为底层的作图库,是其补充\n",
    "import seaborn as sns\n",
    "sns.countplot(diabetes['Outcome'],label=\"Count\")\n",
    "sns.plt.savefig('outcome_count')\n",
    "sns.plt.show()"
   ]
  },
  {
   "cell_type": "code",
   "execution_count": 16,
   "metadata": {},
   "outputs": [
    {
     "name": "stdout",
     "output_type": "stream",
     "text": [
      "<class 'pandas.core.frame.DataFrame'>\n",
      "RangeIndex: 768 entries, 0 to 767\n",
      "Data columns (total 9 columns):\n",
      "Pregnancies                 768 non-null int64\n",
      "Glucose                     768 non-null int64\n",
      "BloodPressure               768 non-null int64\n",
      "SkinThickness               768 non-null int64\n",
      "Insulin                     768 non-null int64\n",
      "BMI                         768 non-null float64\n",
      "DiabetesPedigreeFunction    768 non-null float64\n",
      "Age                         768 non-null int64\n",
      "Outcome                     768 non-null int64\n",
      "dtypes: float64(2), int64(7)\n",
      "memory usage: 54.1 KB\n"
     ]
    }
   ],
   "source": [
    "diabetes.info()"
   ]
  },
  {
   "cell_type": "code",
   "execution_count": 25,
   "metadata": {},
   "outputs": [],
   "source": [
    "##k-NN算法##\n",
    "\n",
    "from sklearn.model_selection import train_test_split\n",
    "\n",
    "X_train,X_test,y_train,y_test=train_test_split(diabetes.loc[:,diabetes.columns!='Outcome'],diabetes['Outcome'],stratify=diabetes['Outcome'],random_state=66)\n",
    "\n",
    "from sklearn.neighbors import KNeighborsClassifier\n",
    "\n",
    "training_accuracy=[]\n",
    "test_accuracy=[]\n",
    "#range() 从1到10\n",
    "neighbors_settings=range(1,11)\n",
    "\n",
    "for n_neighbors in neighbors_settings:\n",
    "    #kNN建模\n",
    "    knn=KNeighborsClassifier(n_neighbors=n_neighbors)\n",
    "    knn.fit(X_train,y_train)\n",
    "    #训练集与测试集精确度存储\n",
    "    training_accuracy.append(knn.score(X_train,y_train))\n",
    "    test_accuracy.append(knn.score(X_test,y_test))"
   ]
  },
  {
   "cell_type": "code",
   "execution_count": 26,
   "metadata": {
    "scrolled": true
   },
   "outputs": [
    {
     "data": {
      "image/png": "[encoded data removed]",
      "text/plain": [
       "<matplotlib.figure.Figure at 0x2e8833e9c18>"
      ]
     },
     "metadata": {},
     "output_type": "display_data"
    }
   ],
   "source": [
    "#作图比较训练集和测试集精确度关系\n",
    "plt.plot(neighbors_settings,training_accuracy,label=\"training accuracy\")\n",
    "plt.plot(neighbors_settings,test_accuracy,label=\"test accuracy\")\n",
    "plt.ylabel(\"Accuracy\")\n",
    "plt.xlabel(\"n_neighbors\")\n",
    "plt.legend()\n",
    "plt.savefig('knn_compare_model')\n",
    "plt.show()"
   ]
  },
  {
   "cell_type": "code",
   "execution_count": 29,
   "metadata": {},
   "outputs": [
    {
     "name": "stdout",
     "output_type": "stream",
     "text": [
      "Accuracy of K-NN classifier on training set:0.792\n",
      "Accuracy of K-NN classifier on test set:0.776\n"
     ]
    }
   ],
   "source": [
    "#由图中得出近邻点个数为9时训练集与测试集精确度差别较接近且精确度较高→最合适\n",
    "knn=KNeighborsClassifier(n_neighbors=9)\n",
    "knn.fit(X_train,y_train)\n",
    "\n",
    "#输出精确度\n",
    "print('Accuracy of K-NN classifier on training set:{:.3f}'.format(knn.score(X_train,y_train)))\n",
    "print('Accuracy of K-NN classifier on test set:{:.3f}'.format(knn.score(X_test,y_test)))"
   ]
  },
  {
   "cell_type": "code",
   "execution_count": 30,
   "metadata": {
    "scrolled": true
   },
   "outputs": [
    {
     "name": "stdout",
     "output_type": "stream",
     "text": [
      "Accuracy of LogisticRegression classifier on training set:0.781\n",
      "Accuracy of LogisticRegression classifier on test set:0.771\n"
     ]
    }
   ],
   "source": [
    "##逻辑回归 LogisticRegression##\n",
    "\n",
    "from sklearn.linear_model import LogisticRegression\n",
    "#默认正则化参数默认C=1\n",
    "logreg=LogisticRegression().fit(X_train,y_train)\n",
    "print('Accuracy of LogisticRegression classifier on training set:{:.3f}'.format(logreg.score(X_train,y_train)))\n",
    "print('Accuracy of LogisticRegression classifier on test set:{:.3f}'.format(logreg.score(X_test,y_test)))"
   ]
  },
  {
   "cell_type": "code",
   "execution_count": 35,
   "metadata": {
    "scrolled": false
   },
   "outputs": [
    {
     "name": "stdout",
     "output_type": "stream",
     "text": [
      "Accuracy of LogisticRegression classifier（C=100) on training set:0.785\n",
      "Accuracy of LogisticRegression classifier（C=100) on test set:0.766\n"
     ]
    }
   ],
   "source": [
    "#正则化参数调整/test C\n",
    "logreg100=LogisticRegression(C=100).fit(X_train,y_train)\n",
    "print('Accuracy of LogisticRegression classifier（C=100) on training set:{:.3f}'.format(logreg100.score(X_train,y_train)))\n",
    "print('Accuracy of LogisticRegression classifier（C=100) on test set:{:.3f}'.format(logreg100.score(X_test,y_test)))\n",
    "\n",
    "logreg_001=LogisticRegression(C=0.001).fit(X_train,y_train)"
   ]
  },
  {
   "cell_type": "code",
   "execution_count": 40,
   "metadata": {},
   "outputs": [
    {
     "data": {
      "image/png": "[encoded data removed]",
      "text/plain": [
       "<matplotlib.figure.Figure at 0x2e8832b0e48>"
      ]
     },
     "metadata": {},
     "output_type": "display_data"
    }
   ],
   "source": [
    "#作图比较C调整的影响\n",
    "#enumerate()遍历\n",
    "diabetes_features=[x for i,x in enumerate(diabetes.columns)if i!=8]\n",
    "\n",
    "plt.figure(figsize=(8,6))\n",
    "plt.plot(logreg.coef_.T,'o',label=\"C=1\")\n",
    "plt.plot(logreg100.coef_.T,'^',label=\"C=100\")\n",
    "plt.plot(logreg_001.coef_.T,'v',label=\"C=0.001\")\n",
    "#rotation 旋转角度\n",
    "plt.xticks(range(diabetes.shape[1]),diabetes_features,rotation=90)\n",
    "plt.ylim(-5,5)\n",
    "plt.xlabel('Feature')\n",
    "plt.ylabel('Coefficient magnitude')\n",
    "plt.legend()\n",
    "plt.savefig('log_coef')\n",
    "plt.show()"
   ]
  },
  {
   "cell_type": "code",
   "execution_count": 43,
   "metadata": {},
   "outputs": [
    {
     "name": "stdout",
     "output_type": "stream",
     "text": [
      "Accuracy of DecisionTree classifier on training set:1.000\n",
      "Accuracy of DecisionTree classifier on test set:0.714\n"
     ]
    }
   ],
   "source": [
    "##决策树 Decision Tree##\n",
    "\n",
    "from sklearn.tree import DecisionTreeClassifier\n",
    "tree=DecisionTreeClassifier(random_state=0)\n",
    "tree.fit(X_train,y_train)\n",
    "\n",
    "print('Accuracy of DecisionTree classifier on training set:{:.3f}'.format(tree.score(X_train,y_train)))\n",
    "print('Accuracy of DecisionTree classifier on test set:{:.3f}'.format(tree.score(X_test,y_test)))"
   ]
  },
  {
   "cell_type": "code",
   "execution_count": 44,
   "metadata": {},
   "outputs": [
    {
     "name": "stdout",
     "output_type": "stream",
     "text": [
      "Accuracy of DecisionTree classifier(max_depth=3) on training set:0.773\n",
      "Accuracy of DecisionTree classifier(max_depth=3) on test set:0.740\n"
     ]
    }
   ],
   "source": [
    "#训练集准确度很高，测试集准确度低很多，过拟合overfitting\n",
    "#参数调整：限制树深度（剪枝）adjustment(pruning)\n",
    "tree=DecisionTreeClassifier(max_depth=3,random_state=0)\n",
    "tree.fit(X_train,y_train)\n",
    "\n",
    "print('Accuracy of DecisionTree classifier(max_depth=3) on training set:{:.3f}'.format(tree.score(X_train,y_train)))\n",
    "print('Accuracy of DecisionTree classifier(max_depth=3) on test set:{:.3f}'.format(tree.score(X_test,y_test)))\n"
   ]
  },
  {
   "cell_type": "code",
   "execution_count": 80,
   "metadata": {},
   "outputs": [
    {
     "name": "stdout",
     "output_type": "stream",
     "text": [
      "Feature importance:\n",
      "[ 0.04554275  0.6830362   0.          0.          0.          0.27142106\n",
      "  0.          0.        ]\n"
     ]
    },
    {
     "data": {
      "image/png": "[encoded data removed]",
      "text/plain": [
       "<matplotlib.figure.Figure at 0x2e8838356d8>"
      ]
     },
     "metadata": {},
     "output_type": "display_data"
    }
   ],
   "source": [
    "#特征重要度feature importance\n",
    "print(\"Feature importance:\\n{}\".format(tree.feature_importances_))\n",
    "\n",
    "#可视化重要度参数\n",
    "def plot_feature_importances_diabetes(model):\n",
    "    plt.figure(figsize=(8,10))\n",
    "    n_features=8\n",
    "    \n",
    "    plt.barh(range(n_features),model.feature_importances_,align='center')\n",
    "    plt.yticks(np.arange(n_features),diabetes_features)\n",
    "    plt.ylabel(\"Feature\")\n",
    "    plt.xlabel(\"Feature importance\")\n",
    "\n",
    "plot_feature_importances_diabetes(tree)    \n",
    "plt.savefig('feature_importance')\n",
    "plt.show()"
   ]
  },
  {
   "cell_type": "code",
   "execution_count": 70,
   "metadata": {},
   "outputs": [
    {
     "name": "stdout",
     "output_type": "stream",
     "text": [
      "Accuracy of RandomForest classifier on training set:1.000\n",
      "Accuracy of RandomForest classifier on test set:0.786\n"
     ]
    }
   ],
   "source": [
    "##随机森林 Random forest##\n",
    "#树的数量：100\n",
    "from sklearn.ensemble import RandomForestClassifier\n",
    "rf=RandomForestClassifier(n_estimators=100,random_state=0)\n",
    "rf.fit(X_train,y_train)\n",
    "\n",
    "print('Accuracy of RandomForest classifier on training set:{:.3f}'.format(rf.score(X_train,y_train)))\n",
    "print('Accuracy of RandomForest classifier on test set:{:.3f}'.format(rf.score(X_test,y_test)))\n"
   ]
  },
  {
   "cell_type": "code",
   "execution_count": 77,
   "metadata": {},
   "outputs": [
    {
     "name": "stdout",
     "output_type": "stream",
     "text": [
      "Accuracy of RandomForest classifier(max_depth=3) on training set:0.800\n",
      "Accuracy of RandomForest classifier(max_depth=3) on test set:0.755\n",
      "Accuracy of RandomForest classifier(n_estimators=80) on training set:0.795\n",
      "Accuracy of RandomForest classifier(n_estimators=80) on test set:0.760\n"
     ]
    }
   ],
   "source": [
    "#参数调整测试\n",
    "rf1=RandomForestClassifier(max_depth=3,n_estimators=100,random_state=0)\n",
    "rf1.fit(X_train,y_train)\n",
    "print('Accuracy of RandomForest classifier(max_depth=3) on training set:{:.3f}'.format(rf1.score(X_train,y_train)))\n",
    "print('Accuracy of RandomForest classifier(max_depth=3) on test set:{:.3f}'.format(rf1.score(X_test,y_test)))\n",
    "\n",
    "rf2=RandomForestClassifier(max_depth=3,n_estimators=80,random_state=0)\n",
    "rf2.fit(X_train,y_train)\n",
    "print('Accuracy of RandomForest classifier(n_estimators=80) on training set:{:.3f}'.format(rf2.score(X_train,y_train)))\n",
    "print('Accuracy of RandomForest classifier(n_estimators=80) on test set:{:.3f}'.format(rf2.score(X_test,y_test)))"
   ]
  },
  {
   "cell_type": "code",
   "execution_count": 83,
   "metadata": {},
   "outputs": [
    {
     "data": {
      "image/png": "[encoded data removed]",
      "text/plain": [
       "<matplotlib.figure.Figure at 0x2e88348b278>"
      ]
     },
     "metadata": {},
     "output_type": "display_data"
    }
   ],
   "source": [
    "#对精确度性能没有提升 则不必修改此参数\n",
    "\n",
    "#特征重要度参数\n",
    "plot_feature_importances_diabetes(rf)    \n",
    "plt.savefig('feature_importance')\n",
    "plt.show()"
   ]
  },
  {
   "cell_type": "code",
   "execution_count": 84,
   "metadata": {},
   "outputs": [
    {
     "name": "stdout",
     "output_type": "stream",
     "text": [
      "Accuracy of GradientBoosting classifier on training set:0.917\n",
      "Accuracy of GradientBoosting classifier on test set:0.792\n"
     ]
    }
   ],
   "source": [
    "##梯度提升##\n",
    "\n",
    "from sklearn.ensemble import GradientBoostingClassifier\n",
    "gb=GradientBoostingClassifier(random_state=0)\n",
    "gb.fit(X_train,y_train)\n",
    "\n",
    "print('Accuracy of GradientBoosting classifier on training set:{:.3f}'.format(gb.score(X_train,y_train)))\n",
    "print('Accuracy of GradientBoosting classifier on test set:{:.3f}'.format(gb.score(X_test,y_test)))"
   ]
  },
  {
   "cell_type": "code",
   "execution_count": 85,
   "metadata": {},
   "outputs": [
    {
     "name": "stdout",
     "output_type": "stream",
     "text": [
      "Accuracy of GradientBoosting classifier(max_depth=1) on training set:0.804\n",
      "Accuracy of GradientBoosting classifier(max_depth=1) on test set:0.781\n",
      "Accuracy of GradientBoosting classifier(learning_rate=0.01) on training set:0.802\n",
      "Accuracy of GradientBoosting classifier(learning_rate=0.01) on test set:0.776\n"
     ]
    }
   ],
   "source": [
    "#过拟合 overfitting\n",
    "\n",
    "#参数修改：1.限制最大深度 2.降低学习速率\n",
    "#限制深度\n",
    "gb1=GradientBoostingClassifier(random_state=0,max_depth=1)\n",
    "gb1.fit(X_train,y_train)\n",
    "\n",
    "print('Accuracy of GradientBoosting classifier(max_depth=1) on training set:{:.3f}'.format(gb1.score(X_train,y_train)))\n",
    "print('Accuracy of GradientBoosting classifier(max_depth=1) on test set:{:.3f}'.format(gb1.score(X_test,y_test)))\n",
    "\n",
    "#降低速率\n",
    "gb2=GradientBoostingClassifier(random_state=0,learning_rate=0.01)\n",
    "gb2.fit(X_train,y_train)\n",
    "\n",
    "print('Accuracy of GradientBoosting classifier(learning_rate=0.01) on training set:{:.3f}'.format(gb2.score(X_train,y_train)))\n",
    "print('Accuracy of GradientBoosting classifier(learning_rate=0.01) on test set:{:.3f}'.format(gb2.score(X_test,y_test)))\n"
   ]
  },
  {
   "cell_type": "code",
   "execution_count": 86,
   "metadata": {},
   "outputs": [
    {
     "data": {
      "image/png": "[encoded data removed]",
      "text/plain": [
       "<matplotlib.figure.Figure at 0x2e884663668>"
      ]
     },
     "metadata": {},
     "output_type": "display_data"
    }
   ],
   "source": [
    "#预测性能没有提升\n",
    "#特征重要度参数\n",
    "plot_feature_importances_diabetes(gb1)    \n",
    "plt.savefig('feature_importance')\n",
    "plt.show()"
   ]
  },
  {
   "cell_type": "code",
   "execution_count": 89,
   "metadata": {},
   "outputs": [
    {
     "name": "stdout",
     "output_type": "stream",
     "text": [
      "Accuracy of SVM classifier on training set:1.000\n",
      "Accuracy of SVM classifier on test set:0.651\n"
     ]
    }
   ],
   "source": [
    "##支持向量机 SVM##\n",
    "\n",
    "from sklearn.svm import SVC\n",
    "svc=SVC()\n",
    "svc.fit(X_train,y_train)\n",
    "\n",
    "print('Accuracy of SVM classifier on training set:{:.3f}'.format(svc.score(X_train,y_train)))\n",
    "print('Accuracy of SVM classifier on test set:{:.3f}'.format(svc.score(X_test,y_test)))"
   ]
  },
  {
   "cell_type": "code",
   "execution_count": 95,
   "metadata": {},
   "outputs": [
    {
     "name": "stdout",
     "output_type": "stream",
     "text": [
      "Accuracy of SVM classifier(scaled) on training set:0.769\n",
      "Accuracy of SVM classifier(scaled) on test set:0.771\n"
     ]
    }
   ],
   "source": [
    "#过拟合 overfitting\n",
    "#参数调整\n",
    "#1.SVM需要调整各特征值尺度使其基本上在同一量表上 度量标准化\n",
    "from sklearn.preprocessing import MinMaxScaler\n",
    "scaler=MinMaxScaler()\n",
    "X_train_scaled=scaler.fit_transform(X_train)\n",
    "X_test_scaled=scaler.fit_transform(X_test)\n",
    "\n",
    "svc=SVC()\n",
    "svc.fit(X_train_scaled,y_train)\n",
    "\n",
    "print('Accuracy of SVM classifier(scaled) on training set:{:.3f}'.format(svc.score(X_train_scaled,y_train)))\n",
    "print('Accuracy of SVM classifier(scaled) on test set:{:.3f}'.format(svc.score(X_test_scaled,y_test)))"
   ]
  },
  {
   "cell_type": "code",
   "execution_count": 92,
   "metadata": {},
   "outputs": [
    {
     "name": "stdout",
     "output_type": "stream",
     "text": [
      "Accuracy of SVM classifier(C=1000) on training set:0.790\n",
      "Accuracy of SVM classifier(C=1000) on test set:0.797\n"
     ]
    }
   ],
   "source": [
    "#2.提高C 或者 gamma\n",
    "svc=SVC(C=1000)\n",
    "\n",
    "svc.fit(X_train_scaled,y_train)\n",
    "\n",
    "print('Accuracy of SVM classifier(C=1000) on training set:{:.3f}'.format(svc.score(X_train_scaled,y_train)))\n",
    "print('Accuracy of SVM classifier(C=1000) on test set:{:.3f}'.format(svc.score(X_test_scaled,y_test)))"
   ]
  },
  {
   "cell_type": "code",
   "execution_count": 94,
   "metadata": {},
   "outputs": [
    {
     "name": "stdout",
     "output_type": "stream",
     "text": [
      "Accuracy of MLPC classifier on training set:0.710\n",
      "Accuracy of MLPC classifier on test set:0.672\n"
     ]
    }
   ],
   "source": [
    "##神经网络 深度学习 neural networks\n",
    "\n",
    "from sklearn.neural_network import MLPClassifier\n",
    "mlp=MLPClassifier(random_state=42)\n",
    "mlp.fit(X_train,y_train)\n",
    "\n",
    "print('Accuracy of MLPC classifier on training set:{:.3f}'.format(mlp.score(X_train,y_train)))\n",
    "print('Accuracy of MLPC classifier on test set:{:.3f}'.format(mlp.score(X_test,y_test)))"
   ]
  },
  {
   "cell_type": "code",
   "execution_count": 98,
   "metadata": {},
   "outputs": [
    {
     "name": "stdout",
     "output_type": "stream",
     "text": [
      "Accuracy of MLPC classifier(scaled) on training set:0.823\n",
      "Accuracy of MLPC classifier(scaled) on test set:0.802\n"
     ]
    },
    {
     "name": "stderr",
     "output_type": "stream",
     "text": [
      "C:\\ProgramData\\Anaconda3\\lib\\site-packages\\sklearn\\neural_network\\multilayer_perceptron.py:563: ConvergenceWarning: Stochastic Optimizer: Maximum iterations reached and the optimization hasn't converged yet.\n",
      "  % (), ConvergenceWarning)\n"
     ]
    }
   ],
   "source": [
    "#underfitting\n",
    "#参数调整\n",
    "#1.标准化数据\n",
    "from sklearn.preprocessing import StandardScaler\n",
    "scaler=StandardScaler()\n",
    "X_train_scaled2=scaler.fit_transform(X_train)\n",
    "X_test_scaled2=scaler.fit_transform(X_test)\n",
    "\n",
    "mlp=MLPClassifier(random_state=0)\n",
    "mlp.fit(X_train_scaled2,y_train)\n",
    "\n",
    "print('Accuracy of MLPC classifier(scaled) on training set:{:.3f}'.format(mlp.score(X_train_scaled2,y_train)))\n",
    "print('Accuracy of MLPC classifier(scaled) on test set:{:.3f}'.format(mlp.score(X_test_scaled2,y_test)))"
   ]
  },
  {
   "cell_type": "code",
   "execution_count": 99,
   "metadata": {},
   "outputs": [
    {
     "name": "stdout",
     "output_type": "stream",
     "text": [
      "Accuracy of MLPC classifier(max_iter=1000) on training set:0.877\n",
      "Accuracy of MLPC classifier(max_iter=1000) on test set:0.755\n"
     ]
    }
   ],
   "source": [
    "#2.增加迭代次数\n",
    "mlp=MLPClassifier(max_iter=1000,random_state=0)\n",
    "mlp.fit(X_train_scaled2,y_train)\n",
    "\n",
    "print('Accuracy of MLPC classifier(max_iter=1000) on training set:{:.3f}'.format(mlp.score(X_train_scaled2,y_train)))\n",
    "print('Accuracy of MLPC classifier(max_iter=1000) on test set:{:.3f}'.format(mlp.score(X_test_scaled2,y_test)))"
   ]
  },
  {
   "cell_type": "code",
   "execution_count": 100,
   "metadata": {},
   "outputs": [
    {
     "name": "stdout",
     "output_type": "stream",
     "text": [
      "Accuracy of MLPC classifier(alpha=1) on training set:0.795\n",
      "Accuracy of MLPC classifier(alpha=1) on test set:0.792\n"
     ]
    }
   ],
   "source": [
    "#对测试集无效果\n",
    "#3.调高alpha参数 加强权重正则化\n",
    "mlp=MLPClassifier(max_iter=1000,alpha=1,random_state=0)\n",
    "mlp.fit(X_train_scaled2,y_train)\n",
    "\n",
    "print('Accuracy of MLPC classifier(alpha=1) on training set:{:.3f}'.format(mlp.score(X_train_scaled2,y_train)))\n",
    "print('Accuracy of MLPC classifier(alpha=1) on test set:{:.3f}'.format(mlp.score(X_test_scaled2,y_test)))"
   ]
  },
  {
   "cell_type": "code",
   "execution_count": 104,
   "metadata": {},
   "outputs": [
    {
     "data": {
      "image/png": "[encoded data removed]",
      "text/plain": [
       "<matplotlib.figure.Figure at 0x2e8832be978>"
      ]
     },
     "metadata": {},
     "output_type": "display_data"
    }
   ],
   "source": [
    "#可视化神经网络权重热图\n",
    "#第一层 layer1\n",
    "    \n",
    "plt.imshow(mlp.coefs_[0],interpolation='none',cmap='viridis')\n",
    "plt.yticks(range(8),diabetes_features)\n",
    "plt.ylabel(\"Input Feature\")\n",
    "plt.xlabel(\"Columns in weight matrix\")\n",
    "plt.colorbar()\n",
    "plt.show()"
   ]
  },
  {
   "cell_type": "code",
   "execution_count": null,
   "metadata": {
    "collapsed": true
   },
   "outputs": [],
   "source": []
  }
 ],
 "metadata": {
  "kernelspec": {
   "display_name": "Python 3",
   "language": "python",
   "name": "python3"
  },
  "language_info": {
   "codemirror_mode": {
    "name": "ipython",
    "version": 3
   },
   "file_extension": ".py",
   "mimetype": "text/x-python",
   "name": "python",
   "nbconvert_exporter": "python",
   "pygments_lexer": "ipython3",
   "version": "3.6.1"
  }
 },
 "nbformat": 4,
 "nbformat_minor": 2
}
